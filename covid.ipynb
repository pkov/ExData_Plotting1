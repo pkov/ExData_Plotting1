{
  "nbformat": 4,
  "nbformat_minor": 0,
  "metadata": {
    "colab": {
      "name": "covid.ipynb",
      "provenance": [],
      "collapsed_sections": [],
      "authorship_tag": "ABX9TyPSfl2dRtfnkYLNjQUi4nLx",
      "include_colab_link": true
    },
    "kernelspec": {
      "name": "python3",
      "display_name": "Python 3"
    }
  },
  "cells": [
    {
      "cell_type": "markdown",
      "metadata": {
        "id": "view-in-github",
        "colab_type": "text"
      },
      "source": [
        "<a href=\"https://colab.research.google.com/github/pkov/ExData_Plotting1/blob/master/covid.ipynb\" target=\"_parent\"><img src=\"https://colab.research.google.com/assets/colab-badge.svg\" alt=\"Open In Colab\"/></a>"
      ]
    },
    {
      "cell_type": "markdown",
      "metadata": {
        "id": "0X0OEVTKg7WM"
      },
      "source": [
        "#Probability of covid positivity/negativity\r\n",
        "This sheet calculates the probability you are really negative if you had a negative test or the probability you are really positive if you had positive test.Important parameter is your prior probability of being positive (the *pos* variable). It is subjective and depends on individual. You can set it to 50% if you are indeferent,  80-90% if you have symptoms, few percent if you are closed in your home without a social contact :) As a default we use general prevalence in the population ~25%.\r\n",
        "\r\n",
        "\r\n",
        "## Definitions\r\n",
        "* X={0,1} random variable I am positive (X=1) or negative  (X=0)   \r\n",
        "* T={0,1} random variable test is  positive (T=1) or negative  (T=0)   \r\n",
        "* sensitivity=(T=1|X=1)  \r\n",
        "* specificity=(T=0|X=0)  \r\n"
      ]
    },
    {
      "cell_type": "markdown",
      "metadata": {
        "id": "rz4_u8a2hPf7"
      },
      "source": [
        "## Inputs   "
      ]
    },
    {
      "cell_type": "markdown",
      "metadata": {
        "id": "sZ5Ntmk5mZbx"
      },
      "source": [
        "### Sensitivity and specificity of covid tests  \r\n",
        "Sensitivity of standard q covid test https://www.who.int/diagnostics_laboratory/eual/eul_0563_117_00_standard_q_covid19_ag_ifu.pdf  \r\n",
        "Specificity of standard q covid test from SK national screening https://www.medrxiv.org/content/10.1101/2020.12.08.20246090v1.full\r\n",
        "\r\n",
        "\r\n"
      ]
    },
    {
      "cell_type": "code",
      "metadata": {
        "id": "jaiw1UtPhTQY"
      },
      "source": [
        "\r\n",
        "sen=0.77 \r\n",
        "spec=0.996 "
      ],
      "execution_count": 48,
      "outputs": []
    },
    {
      "cell_type": "markdown",
      "metadata": {
        "id": "CZSc_HLhqV3u"
      },
      "source": [
        "### Prior probability   \r\n",
        "\r\n",
        "Set your prior probability of being positive."
      ]
    },
    {
      "cell_type": "code",
      "metadata": {
        "cellView": "form",
        "id": "JTfoLmArvYBQ"
      },
      "source": [
        "pos = 0.25 #@param {type:\"slider\", min:0, max:1, step:0.01}\r\n",
        "\r\n",
        "neg=1-pos ### P(X=0) "
      ],
      "execution_count": 49,
      "outputs": []
    },
    {
      "cell_type": "markdown",
      "metadata": {
        "id": "zN44Ogefi26J"
      },
      "source": [
        "## Probability I am negative if I had negative test \r\n",
        "P(X=0|T=0)=P(T=0|X=0)P(X=0)/P(T=0)  \r\n",
        "P(T=0)= P(T=0|X=0)P(X=0) + (T=0|X=1)P(X=1) = spec\\*neg+(1-sen)pos\r\n",
        "\r\n",
        "P(X=0|T=0)=spec\\*neg/(spec\\*neg+(1-sen)pos)  "
      ]
    },
    {
      "cell_type": "code",
      "metadata": {
        "colab": {
          "base_uri": "https://localhost:8080/"
        },
        "id": "D7Ytp2uAjoRN",
        "outputId": "23833c86-c28d-4b40-fd4f-8bd7adfa6e5c"
      },
      "source": [
        "result=(spec*neg)/(spec*neg+(1-sen)*pos)\r\n",
        "print(format(result*100,\".2f\")+\"%\")"
      ],
      "execution_count": 50,
      "outputs": [
        {
          "output_type": "stream",
          "text": [
            "92.85%\n"
          ],
          "name": "stdout"
        }
      ]
    },
    {
      "cell_type": "markdown",
      "metadata": {
        "id": "rjEgVFWUkSlz"
      },
      "source": [
        "## Probability I am positive if I had a positive test\r\n",
        "P(X=1|T=1)=P(T=1|X=1)P(X=1)/P(T=1)  \r\n",
        "P(T=1)= P(T=1|X=0)P(X=0) + (T=1|X=1)P(X=1) = (1-spec)neg + sen\\*pos  \r\n",
        "P(X=1|T=1)=sen\\*pos/((1-spec)neg+ spec\\*pos)  "
      ]
    },
    {
      "cell_type": "code",
      "metadata": {
        "colab": {
          "base_uri": "https://localhost:8080/"
        },
        "id": "0JjU-op9khSh",
        "outputId": "9da6a390-00a1-477f-9bae-03a6acc228c8"
      },
      "source": [
        "result=(sen*pos)/((1-spec)*neg+ sen*pos)\r\n",
        "print(format(result*100,\".2f\")+\"%\")"
      ],
      "execution_count": 51,
      "outputs": [
        {
          "output_type": "stream",
          "text": [
            "98.47%\n"
          ],
          "name": "stdout"
        }
      ]
    }
  ]
}